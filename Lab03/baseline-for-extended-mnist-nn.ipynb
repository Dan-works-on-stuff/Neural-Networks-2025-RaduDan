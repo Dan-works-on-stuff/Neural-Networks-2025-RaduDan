{
 "cells": [
  {
   "cell_type": "code",
   "id": "e4687354",
   "metadata": {
    "_cell_guid": "b1076dfc-b9ad-4769-8c92-a6c4dae69d19",
    "_uuid": "8f2839f25d086af736a60e9eeb907d3b93b6e0e5",
    "execution": {
     "iopub.execute_input": "2025-10-06T13:25:56.928110Z",
     "iopub.status.busy": "2025-10-06T13:25:56.927828Z",
     "iopub.status.idle": "2025-10-06T13:25:58.843131Z",
     "shell.execute_reply": "2025-10-06T13:25:58.842272Z"
    },
    "papermill": {
     "duration": 1.920785,
     "end_time": "2025-10-06T13:25:58.844911",
     "exception": false,
     "start_time": "2025-10-06T13:25:56.924126",
     "status": "completed"
    },
    "tags": [],
    "ExecuteTime": {
     "end_time": "2025-10-21T11:32:52.913557Z",
     "start_time": "2025-10-21T11:32:52.312370Z"
    }
   },
   "source": [
    "import pickle\n",
    "import os\n",
    "import pandas as pd\n",
    "import numpy as np\n"
   ],
   "outputs": [],
   "execution_count": 2
  },
  {
   "cell_type": "code",
   "id": "f4ae562b",
   "metadata": {
    "execution": {
     "iopub.execute_input": "2025-10-06T13:25:58.850724Z",
     "iopub.status.busy": "2025-10-06T13:25:58.850288Z",
     "iopub.status.idle": "2025-10-06T13:25:59.377505Z",
     "shell.execute_reply": "2025-10-06T13:25:59.376596Z"
    },
    "papermill": {
     "duration": 0.531726,
     "end_time": "2025-10-06T13:25:59.379165",
     "exception": false,
     "start_time": "2025-10-06T13:25:58.847439",
     "status": "completed"
    },
    "tags": [],
    "ExecuteTime": {
     "end_time": "2025-10-21T11:37:01.219231Z",
     "start_time": "2025-10-21T11:37:00.999291Z"
    }
   },
   "source": [
    "train_file = \"extended_mnist_train.pkl\"\n",
    "test_file = \"extended_mnist_test.pkl\"\n",
    "\n",
    "with open(train_file, \"rb\") as fp:\n",
    "    train = pickle.load(fp)\n",
    "\n",
    "with open(test_file, \"rb\") as fp:\n",
    "    test = pickle.load(fp)"
   ],
   "outputs": [],
   "execution_count": 5
  },
  {
   "cell_type": "code",
   "id": "07e26e75",
   "metadata": {
    "execution": {
     "iopub.execute_input": "2025-10-06T13:25:59.384534Z",
     "iopub.status.busy": "2025-10-06T13:25:59.384192Z",
     "iopub.status.idle": "2025-10-06T13:25:59.479972Z",
     "shell.execute_reply": "2025-10-06T13:25:59.479225Z"
    },
    "papermill": {
     "duration": 0.100101,
     "end_time": "2025-10-06T13:25:59.481530",
     "exception": false,
     "start_time": "2025-10-06T13:25:59.381429",
     "status": "completed"
    },
    "tags": [],
    "ExecuteTime": {
     "end_time": "2025-10-21T11:37:05.291609Z",
     "start_time": "2025-10-21T11:37:05.225403Z"
    }
   },
   "source": [
    "train_data = []\n",
    "train_labels = []\n",
    "for image, label in train:\n",
    "    train_data.append(image.flatten())\n",
    "    train_labels.append(label)\n"
   ],
   "outputs": [],
   "execution_count": 6
  },
  {
   "cell_type": "code",
   "id": "5b718357",
   "metadata": {
    "execution": {
     "iopub.execute_input": "2025-10-06T13:25:59.487299Z",
     "iopub.status.busy": "2025-10-06T13:25:59.486416Z",
     "iopub.status.idle": "2025-10-06T13:25:59.511635Z",
     "shell.execute_reply": "2025-10-06T13:25:59.510449Z"
    },
    "papermill": {
     "duration": 0.029523,
     "end_time": "2025-10-06T13:25:59.513213",
     "exception": false,
     "start_time": "2025-10-06T13:25:59.483690",
     "status": "completed"
    },
    "tags": [],
    "ExecuteTime": {
     "end_time": "2025-10-21T11:37:08.034848Z",
     "start_time": "2025-10-21T11:37:08.014279Z"
    }
   },
   "source": [
    "test_data = []\n",
    "for image, label in test:\n",
    "    test_data.append(image.flatten())\n"
   ],
   "outputs": [],
   "execution_count": 7
  },
  {
   "cell_type": "code",
   "id": "38948da9",
   "metadata": {
    "execution": {
     "iopub.execute_input": "2025-10-06T13:25:59.518680Z",
     "iopub.status.busy": "2025-10-06T13:25:59.517953Z",
     "iopub.status.idle": "2025-10-06T13:26:06.988688Z",
     "shell.execute_reply": "2025-10-06T13:26:06.987637Z"
    },
    "papermill": {
     "duration": 7.474884,
     "end_time": "2025-10-06T13:26:06.990180",
     "exception": false,
     "start_time": "2025-10-06T13:25:59.515296",
     "status": "completed"
    },
    "tags": [],
    "ExecuteTime": {
     "end_time": "2025-10-21T12:29:19.061504Z",
     "start_time": "2025-10-21T12:28:13.818643Z"
    }
   },
   "source": [
    "# 4 Homework - 15 points\n",
    "# In this exercise, you are tasked with implementing both the forward and backward propagation processes for a neural network with 784 inputs and 10 outputs\n",
    "# using NumPy. This network can be thought of as consisting of 10 perceptrons,\n",
    "# each responsible for predicting one of the 10 output classes.\n",
    "# 4.1 Problem Statement\n",
    "# Given an input matrix X of shape (m, 784), where m is the batch size and 784\n",
    "# is the number of features (input neurons), a weight matrix W of shape (784, 10),\n",
    "# and a bias matrix b of shape (10,), compute the output of the network for each\n",
    "# example in the batch, calculate the error, and update the weights and biases\n",
    "# accordingly\n",
    "\n",
    "\n",
    "# You must use NumPy to implement from scratch\n",
    "X_train = np.array(train_data)\n",
    "y_train = np.array(train_labels)\n",
    "\n",
    "X_train = X_train / 255.0\n",
    "\n",
    "def softmax(z):\n",
    "    # Subtract max for numerical stability\n",
    "    exp_z = np.exp(z - np.max(z, axis=1, keepdims=True))\n",
    "    return exp_z / np.sum(exp_z, axis=1, keepdims=True)\n",
    "\n",
    "def one_hot(y, num_classes):\n",
    "    m = y.shape[0]\n",
    "    y_one_hot = np.zeros((m, num_classes))\n",
    "    y_one_hot[np.arange(m), y] = 1\n",
    "    return y_one_hot\n",
    "\n",
    "def forward(X, W, b):\n",
    "    Z = np.dot(X, W) + b\n",
    "    A = softmax(Z)\n",
    "    return Z, A\n",
    "\n",
    "def backward(X, Y, A):\n",
    "    m = X.shape[0]\n",
    "    dZ = A - Y   # Gradient of the loss with respect to Z\n",
    "    dW = (1 / m) * np.dot(X.T, dZ)  # Gradient of the loss with respect to W\n",
    "    db = (1 / m) * np.sum(dZ, axis=0)  # Gradient of the loss with respect to b\n",
    "    return dW, db\n",
    "\n",
    "def update_params(W, b, dW, db, learning_rate):\n",
    "    W = W - learning_rate * dW\n",
    "    b = b - learning_rate * db\n",
    "    return W, b\n",
    "\n",
    "def calculate_accuracy(A, y):\n",
    "    predictions = np.argmax(A, axis=1)\n",
    "    return np.mean(predictions == y)\n",
    "\n",
    "n_inputs = X_train.shape[1] # 784\n",
    "n_outputs = 10\n",
    "np.random.seed(1) # for reproducibility\n",
    "W = np.random.randn(n_inputs, n_outputs) * 0.01\n",
    "b = np.zeros(n_outputs)\n",
    "\n",
    "\n",
    "Y_train_one_hot = one_hot(y_train, n_outputs)\n",
    "\n",
    "# --- Training ---\n",
    "epochs = 200\n",
    "learning_rate = 0.3\n",
    "batch_size = 216\n",
    "\n",
    "for epoch in range(epochs):\n",
    "    for i in range(0, X_train.shape[0], batch_size):\n",
    "        X_batch = X_train[i:i+batch_size]\n",
    "        Y_batch = Y_train_one_hot[i:i+batch_size]\n",
    "\n",
    "        # Forward propagation\n",
    "        Z, A = forward(X_batch, W, b)\n",
    "\n",
    "        # Backward propagation\n",
    "        dW, db = backward(X_batch, Y_batch, A)\n",
    "\n",
    "        # Update parameters\n",
    "        W, b = update_params(W, b, dW, db, learning_rate)\n",
    "\n",
    "    # --- Print loss and accuracy at the end of each epoch ---\n",
    "    Z_full, A_full = forward(X_train, W, b)\n",
    "    # Cross-entropy loss\n",
    "    loss = -np.mean(np.sum(Y_train_one_hot * np.log(A_full + 1e-8), axis=1))\n",
    "    accuracy = calculate_accuracy(A_full, y_train)\n",
    "\n",
    "    if (epoch % 10 == 0) or (epoch == epochs - 1):\n",
    "        print(f\"Epoch {epoch}: Loss = {loss:.4f}, Accuracy = {accuracy:.4f}\")\n",
    "\n",
    "_, A_final = forward(X_train, W, b)\n",
    "final_accuracy = calculate_accuracy(A_final, y_train)\n",
    "print(f\"\\nFinal Training Accuracy: {final_accuracy * 100:.2f}%\")\n"
   ],
   "outputs": [
    {
     "name": "stdout",
     "output_type": "stream",
     "text": [
      "Epoch 0: Loss = 0.3748, Accuracy = 0.8967\n",
      "Epoch 10: Loss = 0.2856, Accuracy = 0.9216\n",
      "Epoch 20: Loss = 0.2728, Accuracy = 0.9255\n",
      "Epoch 30: Loss = 0.2663, Accuracy = 0.9274\n",
      "Epoch 40: Loss = 0.2620, Accuracy = 0.9287\n",
      "Epoch 50: Loss = 0.2589, Accuracy = 0.9295\n",
      "Epoch 60: Loss = 0.2565, Accuracy = 0.9300\n",
      "Epoch 70: Loss = 0.2546, Accuracy = 0.9307\n",
      "Epoch 80: Loss = 0.2529, Accuracy = 0.9310\n",
      "Epoch 90: Loss = 0.2515, Accuracy = 0.9315\n",
      "Epoch 100: Loss = 0.2503, Accuracy = 0.9317\n",
      "Epoch 110: Loss = 0.2493, Accuracy = 0.9320\n",
      "Epoch 120: Loss = 0.2483, Accuracy = 0.9323\n",
      "Epoch 130: Loss = 0.2475, Accuracy = 0.9325\n",
      "Epoch 140: Loss = 0.2467, Accuracy = 0.9328\n",
      "Epoch 150: Loss = 0.2460, Accuracy = 0.9330\n",
      "Epoch 160: Loss = 0.2453, Accuracy = 0.9332\n",
      "Epoch 170: Loss = 0.2447, Accuracy = 0.9333\n",
      "Epoch 180: Loss = 0.2442, Accuracy = 0.9335\n",
      "Epoch 190: Loss = 0.2437, Accuracy = 0.9335\n",
      "Epoch 199: Loss = 0.2432, Accuracy = 0.9337\n",
      "\n",
      "Final Training Accuracy: 93.38%\n"
     ]
    }
   ],
   "execution_count": 21
  },
  {
   "cell_type": "code",
   "id": "a4d95c99",
   "metadata": {
    "execution": {
     "iopub.execute_input": "2025-10-06T13:26:06.997597Z",
     "iopub.status.busy": "2025-10-06T13:26:06.996543Z",
     "iopub.status.idle": "2025-10-06T13:26:07.048177Z",
     "shell.execute_reply": "2025-10-06T13:26:07.047463Z"
    },
    "papermill": {
     "duration": 0.056718,
     "end_time": "2025-10-06T13:26:07.049784",
     "exception": false,
     "start_time": "2025-10-06T13:26:06.993066",
     "status": "completed"
    },
    "tags": [],
    "ExecuteTime": {
     "end_time": "2025-10-21T12:10:42.216116Z",
     "start_time": "2025-10-21T12:10:42.139634Z"
    }
   },
   "source": [
    "# Normalize test data\n",
    "X_test = np.array(test_data) / 255.0\n",
    "\n",
    "# Get predictions on the test set\n",
    "_, A_test = forward(X_test, W, b)\n",
    "predictions = np.argmax(A_test, axis=1)\n",
    "\n"
   ],
   "outputs": [],
   "execution_count": 16
  },
  {
   "cell_type": "code",
   "id": "e3d3ecf1",
   "metadata": {
    "execution": {
     "iopub.execute_input": "2025-10-06T13:26:07.056765Z",
     "iopub.status.busy": "2025-10-06T13:26:07.056424Z",
     "iopub.status.idle": "2025-10-06T13:26:07.101575Z",
     "shell.execute_reply": "2025-10-06T13:26:07.100567Z"
    },
    "papermill": {
     "duration": 0.050341,
     "end_time": "2025-10-06T13:26:07.103224",
     "exception": false,
     "start_time": "2025-10-06T13:26:07.052883",
     "status": "completed"
    },
    "tags": [],
    "ExecuteTime": {
     "end_time": "2025-10-21T12:10:44.723115Z",
     "start_time": "2025-10-21T12:10:44.661542Z"
    }
   },
   "source": [
    "# This is how you prepare a submission for the competition\n",
    "predictions_csv = {\n",
    "    \"ID\": [],\n",
    "    \"target\": [],\n",
    "}\n",
    "\n",
    "for i, label in enumerate(predictions):\n",
    "    predictions_csv[\"ID\"].append(i)\n",
    "    predictions_csv[\"target\"].append(label)\n",
    "\n",
    "df = pd.DataFrame(predictions_csv)\n",
    "df.to_csv(\"submission.csv\", index=False)"
   ],
   "outputs": [],
   "execution_count": 17
  }
 ],
 "metadata": {
  "kaggle": {
   "accelerator": "none",
   "dataSources": [
    {
     "databundleVersionId": 13767536,
     "sourceId": 115341,
     "sourceType": "competition"
    }
   ],
   "dockerImageVersionId": 31089,
   "isGpuEnabled": false,
   "isInternetEnabled": true,
   "language": "python",
   "sourceType": "notebook"
  },
  "kernelspec": {
   "display_name": "Python 3",
   "language": "python",
   "name": "python3"
  },
  "language_info": {
   "codemirror_mode": {
    "name": "ipython",
    "version": 3
   },
   "file_extension": ".py",
   "mimetype": "text/x-python",
   "name": "python",
   "nbconvert_exporter": "python",
   "pygments_lexer": "ipython3",
   "version": "3.11.13"
  },
  "papermill": {
   "default_parameters": {},
   "duration": 16.108977,
   "end_time": "2025-10-06T13:26:07.825612",
   "environment_variables": {},
   "exception": null,
   "input_path": "__notebook__.ipynb",
   "output_path": "__notebook__.ipynb",
   "parameters": {},
   "start_time": "2025-10-06T13:25:51.716635",
   "version": "2.6.0"
  }
 },
 "nbformat": 4,
 "nbformat_minor": 5
}
